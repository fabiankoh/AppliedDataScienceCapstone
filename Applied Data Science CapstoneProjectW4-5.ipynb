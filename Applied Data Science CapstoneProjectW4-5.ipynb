{
    "nbformat_minor": 1, 
    "cells": [
        {
            "source": "# Title: Lowest Housing Sale Price Among Similiar Boroughs", 
            "cell_type": "markdown", 
            "metadata": {
                "collapsed": true
            }
        }, 
        {
            "source": "### Introduction/Business Problem", 
            "cell_type": "markdown", 
            "metadata": {}
        }, 
        {
            "source": "Singapore is a city-state with one of the most expensive housing market in the world.\nAbout 80% of Singapore residents stay in public housing , managed by the Housing Development Board (HDB). In year 2018, the median sale price of HDB flat is S$408,000.\nFor someone looking to buy a new house in Singapore, this would mean careful research and planning is a must.\n\nIn this project, the objective to is help potential house owner make informed decision on the best Borough to purchase a HDB flat in, among other similar Boroughs.\nBest borough in this case would be the lowest priced Borough among the other similiar Boroughs.", 
            "cell_type": "markdown", 
            "metadata": {}
        }, 
        {
            "source": "### Data", 
            "cell_type": "markdown", 
            "metadata": {}
        }, 
        {
            "source": "##### Definition:\n1. Similiar Borough : Boroughs with simliar venues. As they have similiar amenities , this means the living conditions and lifestyles would be similar.\n2. Lowest Housing Sale Price : Average price of all 2019 sale prices for each Borough\n", 
            "cell_type": "markdown", 
            "metadata": {}
        }, 
        {
            "source": "##### Data description:\n1. Public housing flat resale price in 2019 from https://data.gov.sg/dataset/resale-flat-prices. \n2. This raw data to be clean and average sale price computed for each Borough\n3. Use geopy library to get the latitude and longitude values of each Borough\n4. Forsquare API to get the most common venues of each Borough\n\n", 
            "cell_type": "markdown", 
            "metadata": {}
        }, 
        {
            "execution_count": null, 
            "cell_type": "code", 
            "metadata": {}, 
            "outputs": [], 
            "source": ""
        }
    ], 
    "metadata": {
        "kernelspec": {
            "display_name": "Python 3.5", 
            "name": "python3", 
            "language": "python"
        }, 
        "language_info": {
            "mimetype": "text/x-python", 
            "nbconvert_exporter": "python", 
            "version": "3.5.5", 
            "name": "python", 
            "file_extension": ".py", 
            "pygments_lexer": "ipython3", 
            "codemirror_mode": {
                "version": 3, 
                "name": "ipython"
            }
        }
    }, 
    "nbformat": 4
}